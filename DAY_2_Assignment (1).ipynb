{
  "nbformat": 4,
  "nbformat_minor": 0,
  "metadata": {
    "colab": {
      "name": "DAY  2 Assignment.ipynb",
      "provenance": []
    },
    "kernelspec": {
      "name": "python3",
      "display_name": "Python 3"
    }
  },
  "cells": [
    {
      "cell_type": "markdown",
      "metadata": {
        "id": "6wh--4uYhBih"
      },
      "source": [
        "DAY 2 ASSIGNMENT"
      ]
    },
    {
      "cell_type": "code",
      "metadata": {
        "id": "DYH80bR3hGwL",
        "outputId": "5d467bbd-61f9-44cf-b4e0-edeaa4086034",
        "colab": {
          "base_uri": "https://localhost:8080/"
        }
      },
      "source": [
        "lst = []\n",
        "i=1\n",
        "while i<=10 :\n",
        "  a=int(input())\n",
        "  if a%2==0 :\n",
        "    lst.append(a)\n",
        "  i=i+1\n",
        "\n",
        "print(lst)\n"
      ],
      "execution_count": 3,
      "outputs": [
        {
          "output_type": "stream",
          "text": [
            "5\n",
            "6\n",
            "8\n",
            "65\n",
            "98\n",
            "980\n",
            "76\n",
            "55\n",
            "57\n",
            "94\n",
            "[6, 8, 98, 980, 76, 94]\n"
          ],
          "name": "stdout"
        }
      ]
    },
    {
      "cell_type": "code",
      "metadata": {
        "id": "W55XFpcMiaFZ",
        "outputId": "4e5006d8-bc39-432e-9846-490d93d5230f",
        "colab": {
          "base_uri": "https://localhost:8080/"
        }
      },
      "source": [
        "h_letters = [letter for letter in 'HUMAN']\n",
        "print(h_letters)\n",
        "\n",
        "num_list = [x for x in range(50) if x%5==0]\n",
        "print(num_list)"
      ],
      "execution_count": 4,
      "outputs": [
        {
          "output_type": "stream",
          "text": [
            "['H', 'U', 'M', 'A', 'N']\n",
            "[0, 5, 10, 15, 20, 25, 30, 35, 40, 45]\n"
          ],
          "name": "stdout"
        }
      ]
    },
    {
      "cell_type": "code",
      "metadata": {
        "id": "Ts5qorU0kxbV",
        "outputId": "a193531d-1cdf-4610-f069-cd14a2463d42",
        "colab": {
          "base_uri": "https://localhost:8080/"
        }
      },
      "source": [
        "dict = {}\n",
        "n = int(input())\n",
        "i=1\n",
        "while i<=n :\n",
        "  dict[i] = i*i\n",
        "  i=i+1\n",
        "\n",
        "print(dict)"
      ],
      "execution_count": 6,
      "outputs": [
        {
          "output_type": "stream",
          "text": [
            "5\n",
            "{1: 1, 2: 4, 3: 9, 4: 16, 5: 25}\n"
          ],
          "name": "stdout"
        }
      ]
    },
    {
      "cell_type": "code",
      "metadata": {
        "id": "NLT7axaFk5h5",
        "outputId": "567743f8-7da4-4bce-9f49-f5fd1e43180d",
        "colab": {
          "base_uri": "https://localhost:8080/"
        }
      },
      "source": [
        "import math\n",
        "n = int(input())\n",
        "i = 1\n",
        "d = 0\n",
        "m = 0\n",
        "while i<=n :\n",
        "  a = input()\n",
        "  b = a[ :-2]\n",
        "  c = int(a[-1])\n",
        "  i=i+1\n",
        "  if b == 'UP' :\n",
        "    d = d+c\n",
        "  elif b == 'DOWN' :\n",
        "    d = d-c\n",
        "  elif b == 'RIGHT' :\n",
        "    m = m+c\n",
        "  else :\n",
        "    m = m-c\n",
        "\n",
        "s = math.sqrt((d*d)+(m*m))\n",
        "print(round(s))"
      ],
      "execution_count": 9,
      "outputs": [
        {
          "output_type": "stream",
          "text": [
            "4\n",
            "UP 5\n",
            "DOWN 3\n",
            "LEFT 2\n",
            "RIGHT 3\n",
            "2\n"
          ],
          "name": "stdout"
        }
      ]
    }
  ]
}