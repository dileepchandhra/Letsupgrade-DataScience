{
  "nbformat": 4,
  "nbformat_minor": 0,
  "metadata": {
    "colab": {
      "name": "DAY 1 Assignment 1 .ipynb",
      "provenance": []
    },
    "kernelspec": {
      "name": "python3",
      "display_name": "Python 3"
    }
  },
  "cells": [
    {
      "cell_type": "markdown",
      "metadata": {
        "id": "4VzG9Hcwhed0"
      },
      "source": [
        "ASSIGNMENT 1 "
      ]
    },
    {
      "cell_type": "markdown",
      "metadata": {
        "id": "g-zebMwPhzs6"
      },
      "source": [
        "1st ans : RAINBOW"
      ]
    },
    {
      "cell_type": "code",
      "metadata": {
        "id": "5pe_yNQGh6hU",
        "outputId": "14eb6856-155f-494e-c955-fb48456888ef",
        "colab": {
          "base_uri": "https://localhost:8080/"
        }
      },
      "source": [
        "print(\"LETS UPGRADE\")"
      ],
      "execution_count": 2,
      "outputs": [
        {
          "output_type": "stream",
          "text": [
            "LETS UPGRADE\n"
          ],
          "name": "stdout"
        }
      ]
    },
    {
      "cell_type": "code",
      "metadata": {
        "id": "CZjhbuHmiaOV",
        "outputId": "61faddc4-8980-43b5-d9ed-14a5e1a76e5f",
        "colab": {
          "base_uri": "https://localhost:8080/"
        }
      },
      "source": [
        "a=int(input())\n",
        "b=int(input())\n",
        "if b>a :\n",
        "  print(\"Profit\")\n",
        "elif a>b :\n",
        "  print(\"Loss\")\n",
        "else :\n",
        "  print(\"Neither\")"
      ],
      "execution_count": 6,
      "outputs": [
        {
          "output_type": "stream",
          "text": [
            "20\n",
            "30\n",
            "Profit\n"
          ],
          "name": "stdout"
        }
      ]
    },
    {
      "cell_type": "code",
      "metadata": {
        "id": "NMD6h_QZjxuy",
        "outputId": "8b8aa331-6024-491f-8f74-2abe833263d8",
        "colab": {
          "base_uri": "https://localhost:8080/"
        }
      },
      "source": [
        "a=int(input())\n",
        "print(a*80)"
      ],
      "execution_count": 7,
      "outputs": [
        {
          "output_type": "stream",
          "text": [
            "20\n",
            "1600\n"
          ],
          "name": "stdout"
        }
      ]
    }
  ]
}