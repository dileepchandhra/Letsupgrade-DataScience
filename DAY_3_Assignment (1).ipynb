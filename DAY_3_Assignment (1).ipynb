{
  "nbformat": 4,
  "nbformat_minor": 0,
  "metadata": {
    "colab": {
      "name": "DAY 3 Assignment.ipynb",
      "provenance": []
    },
    "kernelspec": {
      "name": "python3",
      "display_name": "Python 3"
    }
  },
  "cells": [
    {
      "cell_type": "markdown",
      "metadata": {
        "id": "SzZfeC7hUPhh"
      },
      "source": [
        "DAY 3 ASSIGNMENT "
      ]
    },
    {
      "cell_type": "markdown",
      "metadata": {
        "id": "WD4uAuHMVSlp"
      },
      "source": [
        " **QUESTION 1 :** \n",
        " \n",
        " **Create a numpy array starting from 2 to 50 with a stepsize of 3.**"
      ]
    },
    {
      "cell_type": "code",
      "metadata": {
        "id": "DqSNZPQlUUn6",
        "outputId": "5abc1ebe-1bdc-4528-871f-3e87d13b70e0",
        "colab": {
          "base_uri": "https://localhost:8080/"
        }
      },
      "source": [
        "import numpy as np\n",
        "\n",
        "arr = np.arange(2, 51 ,3)\n",
        "print(arr)"
      ],
      "execution_count": 27,
      "outputs": [
        {
          "output_type": "stream",
          "text": [
            "[ 2  5  8 11 14 17 20 23 26 29 32 35 38 41 44 47 50]\n"
          ],
          "name": "stdout"
        }
      ]
    },
    {
      "cell_type": "markdown",
      "metadata": {
        "id": "tgVXEvW3WSj8"
      },
      "source": [
        " **QUESTION 2 :** \n",
        " \n",
        " **Accept two lists of 5 elements each from the user.Convert them to numpy arrays.Concatenate these arrays and print it.Also sort these arrays and print it.**"
      ]
    },
    {
      "cell_type": "code",
      "metadata": {
        "id": "Ly_yaghBW7Fg",
        "outputId": "08f63da0-3d5d-48a2-bd21-bf0350c002bb",
        "colab": {
          "base_uri": "https://localhost:8080/"
        }
      },
      "source": [
        "import numpy as np\n",
        "\n",
        "lst_1 = []\n",
        "lst_2 = []\n",
        "\n",
        "for i in range(5) :\n",
        "  x = int(input(\"Enter the value for list 1 :\"))\n",
        "  lst_1.append(x)\n",
        "\n",
        "print()\n",
        "\n",
        "for i in range(5) :\n",
        "  x = int(input(\"Enter the value for list 2 :\"))\n",
        "  lst_2.append(x)\n",
        "\n",
        "arr_1 = np.array(lst_1)\n",
        "arr_2 = np.array(lst_2)\n",
        "\n",
        "arr = np.concatenate((arr_1 , arr_2))\n",
        "print()\n",
        "print()\n",
        "print(\"Concatenated array : \" , np.sort(arr))"
      ],
      "execution_count": 30,
      "outputs": [
        {
          "output_type": "stream",
          "text": [
            "Enter the value for list 1 :3\n",
            "Enter the value for list 1 :23\n",
            "Enter the value for list 1 :54\n",
            "Enter the value for list 1 :14\n",
            "Enter the value for list 1 :52\n",
            "\n",
            "Enter the value for list 2 :52\n",
            "Enter the value for list 2 :23\n",
            "Enter the value for list 2 :95\n",
            "Enter the value for list 2 :49\n",
            "Enter the value for list 2 :327\n",
            "\n",
            "\n",
            "Concatenated array :  [  3  14  23  23  49  52  52  54  95 327]\n"
          ],
          "name": "stdout"
        }
      ]
    },
    {
      "cell_type": "markdown",
      "metadata": {
        "id": "RKc6pMv4ZE15"
      },
      "source": [
        " **QUESTION 3 :** \n",
        " \n",
        " **Write a code snippet to find the dimensions of a ndarray and its size.**"
      ]
    },
    {
      "cell_type": "code",
      "metadata": {
        "id": "MM3U_fPaZqM6",
        "outputId": "1db5c618-a628-42e8-d799-c2e7eb3cebc8",
        "colab": {
          "base_uri": "https://localhost:8080/"
        }
      },
      "source": [
        "import numpy as np\n",
        "arr = np.array([[1,3,5] , [7,9,6] , [2,0,8]])\n",
        "print(\"Dimensions of array :\" , arr.ndim)\n",
        "print(\"Size :\" ,arr.size)"
      ],
      "execution_count": 9,
      "outputs": [
        {
          "output_type": "stream",
          "text": [
            "Dimensions of array : 2\n",
            "Size : 9\n"
          ],
          "name": "stdout"
        }
      ]
    },
    {
      "cell_type": "markdown",
      "metadata": {
        "id": "PWe7sh4YcTsz"
      },
      "source": [
        " **QUESTION 4 :**\n",
        " \n",
        "  **How to convert a 1D array into a 2D array? Demonstrate with the help of a code snippet\n",
        "Hint: np.newaxis, np.expand_dims**"
      ]
    },
    {
      "cell_type": "code",
      "metadata": {
        "id": "txeuKL31fRGa",
        "outputId": "27a21ae8-8185-497c-db71-ab7593d2f11f",
        "colab": {
          "base_uri": "https://localhost:8080/"
        }
      },
      "source": [
        "import numpy as np\n",
        "\n",
        "arr = np.arange(int(input()))\n",
        "print(arr)\n",
        "print(arr.shape)\n",
        "print()\n",
        "\n",
        "row_arr  = arr[np.newaxis]\n",
        "print(\"row_arr :\" ,row_arr)\n",
        "print(\"row_arr shape  : \" , row_arr.shape)\n",
        "print()\n",
        "\n",
        "col_arr = arr[:, np.newaxis]\n",
        "print(\"col_arr :\" ,col_arr)\n",
        "print(\"col_arr :\" , col_arr.shape)"
      ],
      "execution_count": 32,
      "outputs": [
        {
          "output_type": "stream",
          "text": [
            "5\n",
            "[0 1 2 3 4]\n",
            "(5,)\n",
            "\n",
            "row_arr : [[0 1 2 3 4]]\n",
            "row_arr shape  :  (1, 5)\n",
            "\n",
            "col_arr : [[0]\n",
            " [1]\n",
            " [2]\n",
            " [3]\n",
            " [4]]\n",
            "col_arr : (5, 1)\n"
          ],
          "name": "stdout"
        }
      ]
    },
    {
      "cell_type": "code",
      "metadata": {
        "id": "wV1GpwQrgwW5",
        "outputId": "b78bae63-fdf7-4d87-96ae-6403351aa6be",
        "colab": {
          "base_uri": "https://localhost:8080/"
        }
      },
      "source": [
        "import numpy as np\n",
        "arr = np.arange(int(input()))\n",
        "print(arr.shape)\n",
        "print()\n",
        "\n",
        "row_arr = np.expand_dims(arr ,axis=0)\n",
        "print(\"row_arr :\" ,row_arr)\n",
        "print(\"row_arr shape  : \" , row_arr.shape)\n",
        "print()\n",
        "\n",
        "col_arr = np.expand_dims(arr ,axis=1)\n",
        "print(\"col_arr :\" ,col_arr)\n",
        "print(\"col_arr :\" , col_arr.shape)"
      ],
      "execution_count": 33,
      "outputs": [
        {
          "output_type": "stream",
          "text": [
            "5\n",
            "(5,)\n",
            "\n",
            "row_arr : [[0 1 2 3 4]]\n",
            "row_arr shape  :  (1, 5)\n",
            "\n",
            "col_arr : [[0]\n",
            " [1]\n",
            " [2]\n",
            " [3]\n",
            " [4]]\n",
            "col_arr : (5, 1)\n"
          ],
          "name": "stdout"
        }
      ]
    },
    {
      "cell_type": "markdown",
      "metadata": {
        "id": "2HEhG_zCibIQ"
      },
      "source": [
        " **QUESTION 5 :** \n",
        " \n",
        " **Consider two square numpy arrays. Stack them vertically and horizontally.**\n",
        "\n",
        "\n",
        "**Hint: Use vstack(), hstack()**"
      ]
    },
    {
      "cell_type": "code",
      "metadata": {
        "id": "9CmhVkXYindP",
        "outputId": "93295db0-f0fb-457f-9a09-43c611bec608",
        "colab": {
          "base_uri": "https://localhost:8080/"
        }
      },
      "source": [
        "import numpy as np\n",
        "arr_1 = np.square([1,2,3,4,5])\n",
        "arr_2 = np.square([6,7,8,9,10])\n",
        "\n",
        "print(np.hstack((arr_1 , arr_2)))\n",
        "print()\n",
        "print(np.vstack((arr_1 , arr_2)))"
      ],
      "execution_count": 16,
      "outputs": [
        {
          "output_type": "stream",
          "text": [
            "[  1   4   9  16  25  36  49  64  81 100]\n",
            "\n",
            "[[  1   4   9  16  25]\n",
            " [ 36  49  64  81 100]]\n"
          ],
          "name": "stdout"
        }
      ]
    },
    {
      "cell_type": "markdown",
      "metadata": {
        "id": "42-TT2nFk2yv"
      },
      "source": [
        " **QUESTION 6 :** \n",
        " \n",
        " **How to get unique items and counts of unique items?**\n",
        "\n",
        "Unique method in numpy is used to get the unique values and return count attribute is used to get the count."
      ]
    },
    {
      "cell_type": "code",
      "metadata": {
        "id": "koDl918amBZH",
        "outputId": "011c9541-2e7b-4199-e5ff-d77073b3d79f",
        "colab": {
          "base_uri": "https://localhost:8080/"
        }
      },
      "source": [
        "import numpy as np\n",
        "\n",
        "arr = np.array([1,2,5,1,6,4,6,6,3,14,35,23,42,4,5])\n",
        "\n",
        "arr_count = np.unique(arr , return_counts=True)\n",
        "\n",
        "print( np.asarray((arr_count)).T)\n"
      ],
      "execution_count": 26,
      "outputs": [
        {
          "output_type": "stream",
          "text": [
            "[[ 1  2]\n",
            " [ 2  1]\n",
            " [ 3  1]\n",
            " [ 4  2]\n",
            " [ 5  2]\n",
            " [ 6  3]\n",
            " [14  1]\n",
            " [23  1]\n",
            " [35  1]\n",
            " [42  1]]\n"
          ],
          "name": "stdout"
        }
      ]
    }
  ]
}